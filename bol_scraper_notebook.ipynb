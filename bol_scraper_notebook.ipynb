{
 "cells": [
  {
   "cell_type": "code",
   "execution_count": 2,
   "id": "early-knowing",
   "metadata": {},
   "outputs": [],
   "source": [
    "import pandas as pd\n",
    "import numpy as np\n",
    "import matplotlib.pyplot as plt\n",
    "import seaborn as sns"
   ]
  },
  {
   "cell_type": "code",
   "execution_count": 10,
   "id": "hairy-oliver",
   "metadata": {},
   "outputs": [],
   "source": [
    "book_data = pd.read_json( \"data/data-boeken-bol.json\")"
   ]
  },
  {
   "cell_type": "code",
   "execution_count": 7,
   "id": "passing-keeping",
   "metadata": {},
   "outputs": [
    {
     "data": {
      "text/html": [
       "<div>\n",
       "<style scoped>\n",
       "    .dataframe tbody tr th:only-of-type {\n",
       "        vertical-align: middle;\n",
       "    }\n",
       "\n",
       "    .dataframe tbody tr th {\n",
       "        vertical-align: top;\n",
       "    }\n",
       "\n",
       "    .dataframe thead th {\n",
       "        text-align: right;\n",
       "    }\n",
       "</style>\n",
       "<table border=\"1\" class=\"dataframe\">\n",
       "  <thead>\n",
       "    <tr style=\"text-align: right;\">\n",
       "      <th></th>\n",
       "      <th>title</th>\n",
       "      <th>subtitle</th>\n",
       "      <th>price</th>\n",
       "      <th>rating</th>\n",
       "      <th>date</th>\n",
       "    </tr>\n",
       "  </thead>\n",
       "  <tbody>\n",
       "    <tr>\n",
       "      <td>0</td>\n",
       "      <td>De jongen, de mol, de vos en het paard</td>\n",
       "      <td>None</td>\n",
       "      <td>20.00</td>\n",
       "      <td>None</td>\n",
       "      <td>2021-03-05 14:31:19.636181</td>\n",
       "    </tr>\n",
       "    <tr>\n",
       "      <td>1</td>\n",
       "      <td>Ik ga leven</td>\n",
       "      <td>None</td>\n",
       "      <td>20.00</td>\n",
       "      <td>None</td>\n",
       "      <td>2021-03-05 14:31:19.637685</td>\n",
       "    </tr>\n",
       "    <tr>\n",
       "      <td>2</td>\n",
       "      <td>Een nieuw sociaal contract</td>\n",
       "      <td>None</td>\n",
       "      <td>20.00</td>\n",
       "      <td>None</td>\n",
       "      <td>2021-03-05 14:31:19.639166</td>\n",
       "    </tr>\n",
       "    <tr>\n",
       "      <td>3</td>\n",
       "      <td>De zeven zussen 7 -   De zevende zus</td>\n",
       "      <td>None</td>\n",
       "      <td>24.99</td>\n",
       "      <td>None</td>\n",
       "      <td>2021-03-05 14:31:19.640158</td>\n",
       "    </tr>\n",
       "    <tr>\n",
       "      <td>4</td>\n",
       "      <td>Master Your Mindset</td>\n",
       "      <td>leef je mooiste leven</td>\n",
       "      <td>21.95</td>\n",
       "      <td>96%</td>\n",
       "      <td>2021-03-05 14:31:19.641645</td>\n",
       "    </tr>\n",
       "  </tbody>\n",
       "</table>\n",
       "</div>"
      ],
      "text/plain": [
       "                                    title               subtitle  price  \\\n",
       "0  De jongen, de mol, de vos en het paard                   None  20.00   \n",
       "1                             Ik ga leven                   None  20.00   \n",
       "2              Een nieuw sociaal contract                   None  20.00   \n",
       "3    De zeven zussen 7 -   De zevende zus                   None  24.99   \n",
       "4                     Master Your Mindset  leef je mooiste leven  21.95   \n",
       "\n",
       "  rating                       date  \n",
       "0   None 2021-03-05 14:31:19.636181  \n",
       "1   None 2021-03-05 14:31:19.637685  \n",
       "2   None 2021-03-05 14:31:19.639166  \n",
       "3   None 2021-03-05 14:31:19.640158  \n",
       "4    96% 2021-03-05 14:31:19.641645  "
      ]
     },
     "execution_count": 7,
     "metadata": {},
     "output_type": "execute_result"
    }
   ],
   "source": [
    "book_data.head()"
   ]
  },
  {
   "cell_type": "code",
   "execution_count": 110,
   "id": "treated-jacksonville",
   "metadata": {},
   "outputs": [
    {
     "name": "stdout",
     "output_type": "stream",
     "text": [
      "0.03547099294206888\n"
     ]
    }
   ],
   "source": [
    "book_data['rating'] = (book_data['rating'].str.replace(r'%', ''))\n",
    "\n",
    "correlation = book_data['price'].corr(book_data['rating'].astype(float))\n",
    "\n",
    "print(correlation)"
   ]
  },
  {
   "cell_type": "markdown",
   "id": "excess-england",
   "metadata": {},
   "source": [
    "As you can see there is almost no correlation between the price and the rating."
   ]
  },
  {
   "cell_type": "code",
   "execution_count": null,
   "id": "joined-bradley",
   "metadata": {},
   "outputs": [],
   "source": []
  }
 ],
 "metadata": {
  "kernelspec": {
   "display_name": "Python 3",
   "language": "python",
   "name": "python3"
  },
  "language_info": {
   "codemirror_mode": {
    "name": "ipython",
    "version": 3
   },
   "file_extension": ".py",
   "mimetype": "text/x-python",
   "name": "python",
   "nbconvert_exporter": "python",
   "pygments_lexer": "ipython3",
   "version": "3.6.1"
  }
 },
 "nbformat": 4,
 "nbformat_minor": 5
}
